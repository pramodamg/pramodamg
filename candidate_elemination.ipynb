{
 "cells": [
  {
   "cell_type": "code",
   "execution_count": 1,
   "id": "235717f5",
   "metadata": {},
   "outputs": [],
   "source": [
    "import pandas as pd\n",
    "import numpy as np"
   ]
  },
  {
   "cell_type": "code",
   "execution_count": 17,
   "id": "5674a010",
   "metadata": {},
   "outputs": [],
   "source": [
    "data = pd.read_csv(\"play.csv\")"
   ]
  },
  {
   "cell_type": "code",
   "execution_count": 18,
   "id": "d6c9ad5b",
   "metadata": {},
   "outputs": [],
   "source": [
    "con = np.array(data)[:,:-1]\n",
    "tar = np.array(data)[:,-1:]"
   ]
  },
  {
   "cell_type": "code",
   "execution_count": 19,
   "id": "5f9c2c4c",
   "metadata": {},
   "outputs": [
    {
     "name": "stdout",
     "output_type": "stream",
     "text": [
      "[['sunny' 'warm' 'normal' 'strong' 'warm' 'same']\n",
      " ['sunny' 'warm' 'high' 'strong' 'warm' 'same']\n",
      " ['rainy' 'cold' 'high' 'strong' 'warm' 'change']\n",
      " ['sunny' 'warm' 'high' 'strong' 'cool' 'change']]\n"
     ]
    },
    {
     "data": {
      "text/plain": [
       "array([['yes'],\n",
       "       ['yes'],\n",
       "       ['no'],\n",
       "       ['yes']], dtype=object)"
      ]
     },
     "execution_count": 19,
     "metadata": {},
     "output_type": "execute_result"
    }
   ],
   "source": [
    "gen = ['?', '?', '?', '?', '?', '?']\n",
    "specific = [\"sunny\",\"warm\",\"normal\",\"strong\",\"warm\",\"same\"]\n",
    "print(con)\n",
    "tar"
   ]
  },
  {
   "cell_type": "code",
   "execution_count": 26,
   "id": "031b2e57",
   "metadata": {},
   "outputs": [
    {
     "name": "stdout",
     "output_type": "stream",
     "text": [
      "\n",
      "Generic Boundary:  [['?', '?', '?', '?', '?', '?'], ['?', '?', '?', '?', '?', '?'], ['?', '?', '?', '?', '?', '?'], ['?', '?', '?', '?', '?', '?'], ['?', '?', '?', '?', '?', '?'], ['?', '?', '?', '?', '?', '?']]\n"
     ]
    }
   ],
   "source": [
    "general_h = [[\"?\" for i in range(len(specific))] for i in range(len(specific))]\n",
    "print(\"\\nGeneric Boundary: \",general_h)  \n"
   ]
  },
  {
   "cell_type": "code",
   "execution_count": 40,
   "id": "ba9215aa",
   "metadata": {},
   "outputs": [],
   "source": [
    "def candidate_elemination(con,tar):\n",
    "    for i,val in enumerate(tar):\n",
    "        if val == \"yes\":\n",
    "            spec=con[i]\n",
    "            break\n",
    "        else:\n",
    "            pass\n",
    "    for i,val in enumerate(con):\n",
    "        if tar[i]=='yes':\n",
    "            for x in range(len(spec)):\n",
    "                if val[x]!=spec[x]:\n",
    "                    spec[x]='?'\n",
    "                    general_h[x][x] ='?'\n",
    "                else:\n",
    "                    for x in range(len(specific)): \n",
    "                        if val[x]!= specific[x]:                    \n",
    "                            general_h[x][x] = specific[x]                              \n",
    "                        else:                    \n",
    "                            general_h[x][x] = '?'  \n",
    "#         for e in specific:\n",
    "#             print(f\"Specific Bundary after {i+1}Instance is {e}\\n\")\n",
    "#         for f in general_h:\n",
    "#             print(f\"Generic Boundary after {i+1} Instance is { f}\\n\")\n",
    "    indices = [i for i, val in enumerate(general_h) if val == ['?', '?', '?', '?', '?', '?']]    \n",
    "    for i in indices:   \n",
    "        general_h.remove(['?', '?', '?', '?', '?', '?']) \n",
    "    return specific, general_h "
   ]
  },
  {
   "cell_type": "code",
   "execution_count": 41,
   "id": "f80dcb92",
   "metadata": {},
   "outputs": [
    {
     "ename": "IndexError",
     "evalue": "list index out of range",
     "output_type": "error",
     "traceback": [
      "\u001b[1;31m---------------------------------------------------------------------------\u001b[0m",
      "\u001b[1;31mIndexError\u001b[0m                                Traceback (most recent call last)",
      "\u001b[1;32m~\\AppData\\Local\\Temp/ipykernel_2908/1543235272.py\u001b[0m in \u001b[0;36m<module>\u001b[1;34m\u001b[0m\n\u001b[1;32m----> 1\u001b[1;33m \u001b[0ms\u001b[0m\u001b[1;33m,\u001b[0m\u001b[0mg\u001b[0m\u001b[1;33m=\u001b[0m\u001b[0mcandidate_elemination\u001b[0m\u001b[1;33m(\u001b[0m\u001b[0mcon\u001b[0m\u001b[1;33m,\u001b[0m\u001b[0mtar\u001b[0m\u001b[1;33m)\u001b[0m\u001b[1;33m\u001b[0m\u001b[1;33m\u001b[0m\u001b[0m\n\u001b[0m",
      "\u001b[1;32m~\\AppData\\Local\\Temp/ipykernel_2908/4056044030.py\u001b[0m in \u001b[0;36mcandidate_elemination\u001b[1;34m(con, tar)\u001b[0m\n\u001b[0;32m     17\u001b[0m                             \u001b[0mgeneral_h\u001b[0m\u001b[1;33m[\u001b[0m\u001b[0mx\u001b[0m\u001b[1;33m]\u001b[0m\u001b[1;33m[\u001b[0m\u001b[0mx\u001b[0m\u001b[1;33m]\u001b[0m \u001b[1;33m=\u001b[0m \u001b[0mspecific\u001b[0m\u001b[1;33m[\u001b[0m\u001b[0mx\u001b[0m\u001b[1;33m]\u001b[0m\u001b[1;33m\u001b[0m\u001b[1;33m\u001b[0m\u001b[0m\n\u001b[0;32m     18\u001b[0m                         \u001b[1;32melse\u001b[0m\u001b[1;33m:\u001b[0m\u001b[1;33m\u001b[0m\u001b[1;33m\u001b[0m\u001b[0m\n\u001b[1;32m---> 19\u001b[1;33m                             \u001b[0mgeneral_h\u001b[0m\u001b[1;33m[\u001b[0m\u001b[0mx\u001b[0m\u001b[1;33m]\u001b[0m\u001b[1;33m[\u001b[0m\u001b[0mx\u001b[0m\u001b[1;33m]\u001b[0m \u001b[1;33m=\u001b[0m \u001b[1;34m'?'\u001b[0m\u001b[1;33m\u001b[0m\u001b[1;33m\u001b[0m\u001b[0m\n\u001b[0m\u001b[0;32m     20\u001b[0m \u001b[1;31m#         for e in specific:\u001b[0m\u001b[1;33m\u001b[0m\u001b[1;33m\u001b[0m\u001b[0m\n\u001b[0;32m     21\u001b[0m \u001b[1;31m#             print(f\"Specific Bundary after {i+1}Instance is {e}\\n\")\u001b[0m\u001b[1;33m\u001b[0m\u001b[1;33m\u001b[0m\u001b[0m\n",
      "\u001b[1;31mIndexError\u001b[0m: list index out of range"
     ]
    }
   ],
   "source": [
    "s,g=candidate_elemination(con,tar)"
   ]
  },
  {
   "cell_type": "code",
   "execution_count": 42,
   "id": "d98c1a12",
   "metadata": {},
   "outputs": [
    {
     "name": "stdout",
     "output_type": "stream",
     "text": [
      "\n",
      "Instances are:\n",
      " [['sunny' 'warm' 'normal' 'strong' 'warm' 'same']\n",
      " ['sunny' 'warm' 'high' 'strong' 'warm' 'same']\n",
      " ['rainy' 'cold' 'high' 'strong' 'warm' 'change']\n",
      " ['sunny' 'warm' 'high' 'strong' 'cool' 'change']]\n",
      "\n",
      "Target Values are:  ['yes' 'yes' 'no' 'yes']\n"
     ]
    }
   ],
   "source": [
    "concepts = np.array(data.iloc[:,:-1])\n",
    "print(\"\\nInstances are:\\n\",concepts)\n",
    "target = np.array(data.iloc[:,-1])\n",
    "print(\"\\nTarget Values are: \",target)"
   ]
  },
  {
   "cell_type": "code",
   "execution_count": 45,
   "id": "28ad6e8b",
   "metadata": {},
   "outputs": [
    {
     "name": "stdout",
     "output_type": "stream",
     "text": [
      "Initialization of specific_h and general_h\n",
      "specific_h:  ['sunny' 'warm' 'normal' 'strong' 'warm' 'same']\n",
      "general_h:  [['?', '?', '?', '?', '?', '?'], ['?', '?', '?', '?', '?', '?'], ['?', '?', '?', '?', '?', '?'], ['?', '?', '?', '?', '?', '?'], ['?', '?', '?', '?', '?', '?'], ['?', '?', '?', '?', '?', '?']]\n",
      "\n",
      "concepts:  [['sunny' 'warm' 'normal' 'strong' 'warm' 'same']\n",
      " ['sunny' 'warm' 'high' 'strong' 'warm' 'same']\n",
      " ['rainy' 'cold' 'high' 'strong' 'warm' 'change']\n",
      " ['sunny' 'warm' 'high' 'strong' 'cool' 'change']]\n",
      "\n",
      "Final Specific_h:\n",
      "['sunny' 'warm' '?' 'strong' '?' '?']\n",
      "Final General_h:\n",
      "[['sunny', '?', '?', '?', '?', '?'], ['?', 'warm', '?', '?', '?', '?']]\n"
     ]
    }
   ],
   "source": [
    "def learn(concepts, target):\n",
    "\n",
    "    specific_h = concepts[0].copy()\n",
    "\n",
    "    print(\"Initialization of specific_h and general_h\")\n",
    "\n",
    "    print(\"specific_h: \",specific_h)\n",
    "\n",
    "    general_h = [[\"?\" for i in range(len(specific_h))] for i in range(len(specific_h))]\n",
    "\n",
    "    print(\"general_h: \",general_h)\n",
    "\n",
    "    print(\"\\nconcepts: \",concepts)\n",
    "\n",
    "    for i, h in enumerate(concepts):\n",
    "\n",
    "        if target[i] == \"yes\":\n",
    "\n",
    "            for x in range(len(specific_h)):\n",
    "\n",
    "                #print(\"h[x]\",h[x])\n",
    "\n",
    "                if h[x] != specific_h[x]:\n",
    "\n",
    "                    specific_h[x] = '?'\n",
    "\n",
    "                    general_h[x][x] = '?'\n",
    "\n",
    "        if target[i] == \"no\":\n",
    "\n",
    "            for x in range(len(specific_h)):\n",
    "\n",
    "                if h[x] != specific_h[x]:\n",
    "\n",
    "                    general_h[x][x] = specific_h[x]\n",
    "\n",
    "                else:\n",
    "\n",
    "                    general_h[x][x] = '?'\n",
    "\n",
    "    indices = [i for i, val in enumerate(general_h) if val == ['?', '?', '?', '?', '?', '?']]\n",
    "\n",
    "    for i in indices:\n",
    "\n",
    "        general_h.remove(['?', '?', '?', '?', '?', '?'])\n",
    "\n",
    "    return specific_h, general_h\n",
    "\n",
    "s_final,g_final = learn(concepts, target)\n",
    "\n",
    "print(\"\\nFinal Specific_h:\", s_final, sep=\"\\n\")\n",
    "\n",
    "print(\"Final General_h:\", g_final, sep=\"\\n\")"
   ]
  }
 ],
 "metadata": {
  "kernelspec": {
   "display_name": "Python 3 (ipykernel)",
   "language": "python",
   "name": "python3"
  },
  "language_info": {
   "codemirror_mode": {
    "name": "ipython",
    "version": 3
   },
   "file_extension": ".py",
   "mimetype": "text/x-python",
   "name": "python",
   "nbconvert_exporter": "python",
   "pygments_lexer": "ipython3",
   "version": "3.9.7"
  }
 },
 "nbformat": 4,
 "nbformat_minor": 5
}
